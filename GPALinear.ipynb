{
 "cells": [
  {
   "cell_type": "markdown",
   "id": "36f1bbdf",
   "metadata": {},
   "source": [
    "# GPA Prediction Using Linear Regression"
   ]
  },
  {
   "cell_type": "markdown",
   "id": "10d05295",
   "metadata": {},
   "source": [
    "## Import and Dataset"
   ]
  },
  {
   "cell_type": "code",
   "execution_count": 11,
   "id": "5f268efe",
   "metadata": {},
   "outputs": [],
   "source": [
    "import numpy as np\n",
    "import matplotlib.pyplot as plt\n",
    "import pandas as pd\n",
    "import seaborn as sns\n",
    "import os\n",
    "\n",
    "from sklearn.linear_model import LinearRegression\n",
    "from sklearn.model_selection import train_test_split\n",
    "from sklearn.metrics import mean_squared_error, r2_score\n",
    "from sklearn.preprocessing import LabelEncoder"
   ]
  },
  {
   "cell_type": "code",
   "execution_count": 12,
   "id": "5977e428",
   "metadata": {},
   "outputs": [],
   "source": [
    "df = pd.read_csv('GPA.csv')"
   ]
  },
  {
   "cell_type": "markdown",
   "id": "d4f66f4a",
   "metadata": {},
   "source": [
    "## EDA + Preprocessing by filling Na's"
   ]
  },
  {
   "cell_type": "code",
   "execution_count": 13,
   "id": "80df9ca3",
   "metadata": {},
   "outputs": [
    {
     "data": {
      "text/plain": [
       "(76, 8)"
      ]
     },
     "execution_count": 13,
     "metadata": {},
     "output_type": "execute_result"
    }
   ],
   "source": [
    "df.shape"
   ]
  },
  {
   "cell_type": "code",
   "execution_count": 14,
   "id": "bea04ae2",
   "metadata": {},
   "outputs": [
    {
     "data": {
      "text/html": [
       "<div>\n",
       "<style scoped>\n",
       "    .dataframe tbody tr th:only-of-type {\n",
       "        vertical-align: middle;\n",
       "    }\n",
       "\n",
       "    .dataframe tbody tr th {\n",
       "        vertical-align: top;\n",
       "    }\n",
       "\n",
       "    .dataframe thead th {\n",
       "        text-align: right;\n",
       "    }\n",
       "</style>\n",
       "<table border=\"1\" class=\"dataframe\">\n",
       "  <thead>\n",
       "    <tr style=\"text-align: right;\">\n",
       "      <th></th>\n",
       "      <th>Spec</th>\n",
       "      <th>Gender</th>\n",
       "      <th>St_Hr</th>\n",
       "      <th>School_AV</th>\n",
       "      <th>branch</th>\n",
       "      <th>level</th>\n",
       "      <th>Age</th>\n",
       "      <th>GPA</th>\n",
       "    </tr>\n",
       "  </thead>\n",
       "  <tbody>\n",
       "    <tr>\n",
       "      <th>0</th>\n",
       "      <td>CS</td>\n",
       "      <td>F</td>\n",
       "      <td>6</td>\n",
       "      <td>80.0</td>\n",
       "      <td>P</td>\n",
       "      <td>3</td>\n",
       "      <td>20.0</td>\n",
       "      <td>78</td>\n",
       "    </tr>\n",
       "    <tr>\n",
       "      <th>1</th>\n",
       "      <td>CS</td>\n",
       "      <td>F</td>\n",
       "      <td>7</td>\n",
       "      <td>82.0</td>\n",
       "      <td>P</td>\n",
       "      <td>4</td>\n",
       "      <td>22.0</td>\n",
       "      <td>73</td>\n",
       "    </tr>\n",
       "    <tr>\n",
       "      <th>2</th>\n",
       "      <td>CS</td>\n",
       "      <td>F</td>\n",
       "      <td>4</td>\n",
       "      <td>81.0</td>\n",
       "      <td>P</td>\n",
       "      <td>3</td>\n",
       "      <td>20.0</td>\n",
       "      <td>80</td>\n",
       "    </tr>\n",
       "    <tr>\n",
       "      <th>3</th>\n",
       "      <td>CS</td>\n",
       "      <td>M</td>\n",
       "      <td>3</td>\n",
       "      <td>NaN</td>\n",
       "      <td>P</td>\n",
       "      <td>3</td>\n",
       "      <td>22.0</td>\n",
       "      <td>67</td>\n",
       "    </tr>\n",
       "    <tr>\n",
       "      <th>4</th>\n",
       "      <td>CS</td>\n",
       "      <td>M</td>\n",
       "      <td>3</td>\n",
       "      <td>NaN</td>\n",
       "      <td>P</td>\n",
       "      <td>3</td>\n",
       "      <td>22.0</td>\n",
       "      <td>67</td>\n",
       "    </tr>\n",
       "  </tbody>\n",
       "</table>\n",
       "</div>"
      ],
      "text/plain": [
       "  Spec Gender  St_Hr  School_AV branch  level   Age  GPA\n",
       "0   CS      F      6       80.0      P      3  20.0   78\n",
       "1   CS      F      7       82.0      P      4  22.0   73\n",
       "2   CS      F      4       81.0      P      3  20.0   80\n",
       "3   CS      M      3        NaN      P      3  22.0   67\n",
       "4   CS      M      3        NaN      P      3  22.0   67"
      ]
     },
     "execution_count": 14,
     "metadata": {},
     "output_type": "execute_result"
    }
   ],
   "source": [
    "df.head()"
   ]
  },
  {
   "cell_type": "code",
   "execution_count": 15,
   "id": "18e71c15",
   "metadata": {},
   "outputs": [
    {
     "name": "stdout",
     "output_type": "stream",
     "text": [
      "<class 'pandas.core.frame.DataFrame'>\n",
      "RangeIndex: 76 entries, 0 to 75\n",
      "Data columns (total 8 columns):\n",
      " #   Column     Non-Null Count  Dtype  \n",
      "---  ------     --------------  -----  \n",
      " 0   Spec       76 non-null     object \n",
      " 1   Gender     74 non-null     object \n",
      " 2   St_Hr      76 non-null     int64  \n",
      " 3   School_AV  72 non-null     float64\n",
      " 4   branch     76 non-null     object \n",
      " 5   level      76 non-null     int64  \n",
      " 6   Age        68 non-null     float64\n",
      " 7   GPA        76 non-null     int64  \n",
      "dtypes: float64(2), int64(3), object(3)\n",
      "memory usage: 4.9+ KB\n"
     ]
    }
   ],
   "source": [
    "df.info()"
   ]
  },
  {
   "cell_type": "code",
   "execution_count": 16,
   "id": "067daebd",
   "metadata": {},
   "outputs": [
    {
     "data": {
      "text/html": [
       "<div>\n",
       "<style scoped>\n",
       "    .dataframe tbody tr th:only-of-type {\n",
       "        vertical-align: middle;\n",
       "    }\n",
       "\n",
       "    .dataframe tbody tr th {\n",
       "        vertical-align: top;\n",
       "    }\n",
       "\n",
       "    .dataframe thead th {\n",
       "        text-align: right;\n",
       "    }\n",
       "</style>\n",
       "<table border=\"1\" class=\"dataframe\">\n",
       "  <thead>\n",
       "    <tr style=\"text-align: right;\">\n",
       "      <th></th>\n",
       "      <th>St_Hr</th>\n",
       "      <th>School_AV</th>\n",
       "      <th>level</th>\n",
       "      <th>Age</th>\n",
       "      <th>GPA</th>\n",
       "    </tr>\n",
       "  </thead>\n",
       "  <tbody>\n",
       "    <tr>\n",
       "      <th>count</th>\n",
       "      <td>76.000000</td>\n",
       "      <td>72.000000</td>\n",
       "      <td>76.000000</td>\n",
       "      <td>68.000000</td>\n",
       "      <td>76.000000</td>\n",
       "    </tr>\n",
       "    <tr>\n",
       "      <th>mean</th>\n",
       "      <td>4.789474</td>\n",
       "      <td>70.166667</td>\n",
       "      <td>2.736842</td>\n",
       "      <td>21.220588</td>\n",
       "      <td>78.631579</td>\n",
       "    </tr>\n",
       "    <tr>\n",
       "      <th>std</th>\n",
       "      <td>1.236293</td>\n",
       "      <td>8.465339</td>\n",
       "      <td>0.929063</td>\n",
       "      <td>1.582041</td>\n",
       "      <td>6.657011</td>\n",
       "    </tr>\n",
       "    <tr>\n",
       "      <th>min</th>\n",
       "      <td>3.000000</td>\n",
       "      <td>54.000000</td>\n",
       "      <td>1.000000</td>\n",
       "      <td>18.000000</td>\n",
       "      <td>60.000000</td>\n",
       "    </tr>\n",
       "    <tr>\n",
       "      <th>25%</th>\n",
       "      <td>4.000000</td>\n",
       "      <td>65.000000</td>\n",
       "      <td>2.000000</td>\n",
       "      <td>20.000000</td>\n",
       "      <td>75.000000</td>\n",
       "    </tr>\n",
       "    <tr>\n",
       "      <th>50%</th>\n",
       "      <td>5.000000</td>\n",
       "      <td>70.000000</td>\n",
       "      <td>3.000000</td>\n",
       "      <td>22.000000</td>\n",
       "      <td>80.000000</td>\n",
       "    </tr>\n",
       "    <tr>\n",
       "      <th>75%</th>\n",
       "      <td>6.000000</td>\n",
       "      <td>77.000000</td>\n",
       "      <td>3.000000</td>\n",
       "      <td>22.000000</td>\n",
       "      <td>82.000000</td>\n",
       "    </tr>\n",
       "    <tr>\n",
       "      <th>max</th>\n",
       "      <td>7.000000</td>\n",
       "      <td>89.000000</td>\n",
       "      <td>6.000000</td>\n",
       "      <td>25.000000</td>\n",
       "      <td>90.000000</td>\n",
       "    </tr>\n",
       "  </tbody>\n",
       "</table>\n",
       "</div>"
      ],
      "text/plain": [
       "           St_Hr  School_AV      level        Age        GPA\n",
       "count  76.000000  72.000000  76.000000  68.000000  76.000000\n",
       "mean    4.789474  70.166667   2.736842  21.220588  78.631579\n",
       "std     1.236293   8.465339   0.929063   1.582041   6.657011\n",
       "min     3.000000  54.000000   1.000000  18.000000  60.000000\n",
       "25%     4.000000  65.000000   2.000000  20.000000  75.000000\n",
       "50%     5.000000  70.000000   3.000000  22.000000  80.000000\n",
       "75%     6.000000  77.000000   3.000000  22.000000  82.000000\n",
       "max     7.000000  89.000000   6.000000  25.000000  90.000000"
      ]
     },
     "execution_count": 16,
     "metadata": {},
     "output_type": "execute_result"
    }
   ],
   "source": [
    "df.describe()"
   ]
  },
  {
   "cell_type": "code",
   "execution_count": 17,
   "id": "29bff6af",
   "metadata": {},
   "outputs": [
    {
     "data": {
      "text/plain": [
       "Spec         0\n",
       "Gender       2\n",
       "St_Hr        0\n",
       "School_AV    4\n",
       "branch       0\n",
       "level        0\n",
       "Age          8\n",
       "GPA          0\n",
       "dtype: int64"
      ]
     },
     "execution_count": 17,
     "metadata": {},
     "output_type": "execute_result"
    }
   ],
   "source": [
    "# Count Na values\n",
    "df.isnull().sum()"
   ]
  },
  {
   "cell_type": "code",
   "execution_count": 18,
   "id": "64019b96",
   "metadata": {},
   "outputs": [
    {
     "name": "stderr",
     "output_type": "stream",
     "text": [
      "/var/folders/w5/q_mfmfp557q99f_5j1v21c_40000gn/T/ipykernel_29364/1254510407.py:2: FutureWarning: A value is trying to be set on a copy of a DataFrame or Series through chained assignment using an inplace method.\n",
      "The behavior will change in pandas 3.0. This inplace method will never work because the intermediate object on which we are setting values always behaves as a copy.\n",
      "\n",
      "For example, when doing 'df[col].method(value, inplace=True)', try using 'df.method({col: value}, inplace=True)' or df[col] = df[col].method(value) instead, to perform the operation inplace on the original object.\n",
      "\n",
      "\n",
      "  df['Age'].fillna(df['Age'].mean(), inplace=True)\n"
     ]
    }
   ],
   "source": [
    "# Fill the age with the mean\n",
    "df['Age'].fillna(df['Age'].mean(), inplace=True)"
   ]
  },
  {
   "cell_type": "code",
   "execution_count": 20,
   "id": "d3d67e67",
   "metadata": {},
   "outputs": [
    {
     "name": "stderr",
     "output_type": "stream",
     "text": [
      "/var/folders/w5/q_mfmfp557q99f_5j1v21c_40000gn/T/ipykernel_29364/666060405.py:8: FutureWarning: A value is trying to be set on a copy of a DataFrame or Series through chained assignment using an inplace method.\n",
      "The behavior will change in pandas 3.0. This inplace method will never work because the intermediate object on which we are setting values always behaves as a copy.\n",
      "\n",
      "For example, when doing 'df[col].method(value, inplace=True)', try using 'df.method({col: value}, inplace=True)' or df[col] = df[col].method(value) instead, to perform the operation inplace on the original object.\n",
      "\n",
      "\n",
      "  df['Gender'].fillna(df['Gender'].mean(), inplace=True)\n"
     ]
    }
   ],
   "source": [
    "# Encode Gender before filling Na values\n",
    "le = LabelEncoder()\n",
    "\n",
    "le.fit(df['Gender'])\n",
    "df['Gender'] = le.transform(df['Gender'])\n",
    "\n",
    "# Fill the Na values with the mean\n",
    "df['Gender'].fillna(df['Gender'].mean(), inplace=True)"
   ]
  },
  {
   "cell_type": "code",
   "execution_count": 22,
   "id": "bc292331",
   "metadata": {},
   "outputs": [
    {
     "data": {
      "text/plain": [
       "Spec         0\n",
       "Gender       0\n",
       "St_Hr        0\n",
       "School_AV    4\n",
       "branch       0\n",
       "level        0\n",
       "Age          0\n",
       "GPA          0\n",
       "dtype: int64"
      ]
     },
     "execution_count": 22,
     "metadata": {},
     "output_type": "execute_result"
    }
   ],
   "source": [
    "df.isna().sum()"
   ]
  },
  {
   "cell_type": "code",
   "execution_count": 23,
   "id": "7133dc76",
   "metadata": {},
   "outputs": [
    {
     "data": {
      "image/png": "[encoded data removed]",
      "text/plain": [
       "<Figure size 640x480 with 1 Axes>"
      ]
     },
     "metadata": {},
     "output_type": "display_data"
    }
   ],
   "source": [
    "sns.histplot(df['GPA'], bins=20)\n",
    "plt.title('GPA Distribution')\n",
    "plt.xlabel('GPA')\n",
    "plt.ylabel('Frequency')\n",
    "plt.show()"
   ]
  },
  {
   "cell_type": "code",
   "execution_count": 25,
   "id": "25d86a35",
   "metadata": {},
   "outputs": [
    {
     "name": "stdout",
     "output_type": "stream",
     "text": [
      "<class 'pandas.core.frame.DataFrame'>\n",
      "RangeIndex: 76 entries, 0 to 75\n",
      "Data columns (total 8 columns):\n",
      " #   Column     Non-Null Count  Dtype  \n",
      "---  ------     --------------  -----  \n",
      " 0   Spec       76 non-null     object \n",
      " 1   Gender     76 non-null     int64  \n",
      " 2   St_Hr      76 non-null     int64  \n",
      " 3   School_AV  72 non-null     float64\n",
      " 4   branch     76 non-null     object \n",
      " 5   level      76 non-null     int64  \n",
      " 6   Age        76 non-null     float64\n",
      " 7   GPA        76 non-null     int64  \n",
      "dtypes: float64(2), int64(4), object(2)\n",
      "memory usage: 4.9+ KB\n"
     ]
    }
   ],
   "source": [
    "df.info()"
   ]
  },
  {
   "cell_type": "code",
   "execution_count": 26,
   "id": "69c37215",
   "metadata": {},
   "outputs": [],
   "source": [
    "# Convert categorical variables to numerical\n",
    "le = LabelEncoder()\n",
    "le.fit(df['Spec'])\n",
    "df['Spec'] = le.transform(df['Spec'])\n",
    "le.fit(df['branch'])\n",
    "df['branch'] = le.transform(df['branch'])\n"
   ]
  },
  {
   "cell_type": "code",
   "execution_count": 27,
   "id": "8aef42a5",
   "metadata": {},
   "outputs": [
    {
     "name": "stdout",
     "output_type": "stream",
     "text": [
      "<class 'pandas.core.frame.DataFrame'>\n",
      "RangeIndex: 76 entries, 0 to 75\n",
      "Data columns (total 8 columns):\n",
      " #   Column     Non-Null Count  Dtype  \n",
      "---  ------     --------------  -----  \n",
      " 0   Spec       76 non-null     int64  \n",
      " 1   Gender     76 non-null     int64  \n",
      " 2   St_Hr      76 non-null     int64  \n",
      " 3   School_AV  72 non-null     float64\n",
      " 4   branch     76 non-null     int64  \n",
      " 5   level      76 non-null     int64  \n",
      " 6   Age        76 non-null     float64\n",
      " 7   GPA        76 non-null     int64  \n",
      "dtypes: float64(2), int64(6)\n",
      "memory usage: 4.9 KB\n"
     ]
    }
   ],
   "source": [
    "df.info()"
   ]
  },
  {
   "cell_type": "code",
   "execution_count": 28,
   "id": "469677c3",
   "metadata": {},
   "outputs": [
    {
     "data": {
      "image/png": "[encoded data removed]",
      "text/plain": [
       "<Figure size 1000x800 with 2 Axes>"
      ]
     },
     "metadata": {},
     "output_type": "display_data"
    }
   ],
   "source": [
    "# Correlation matrix\n",
    "corr = df.corr()\n",
    "plt.figure(figsize=(10, 8))\n",
    "sns.heatmap(corr, annot=True, fmt=\".2f\", cmap='coolwarm', square=True)\n",
    "plt.title('Correlation Matrix')\n",
    "plt.show()"
   ]
  },
  {
   "cell_type": "markdown",
   "id": "85117026",
   "metadata": {},
   "source": [
    "To explain the correlations, we can analyze the correlation matrix (`corr`) that shows the pairwise correlation coefficients between the variables in the dataset. Correlation values range from -1 to 1:\n",
    "\n",
    "- **Positive Correlation**: A value close to 1 indicates a strong positive relationship (as one variable increases, the other also increases).\n",
    "- **Negative Correlation**: A value close to -1 indicates a strong negative relationship (as one variable increases, the other decreases).\n",
    "- **No Correlation**: A value close to 0 indicates no linear relationship.\n",
    "\n",
    "Here are some observations from the `corr` matrix:\n",
    "\n",
    "1. **`branch` and `GPA`**: Strong negative correlation (-0.72). This suggests that as the `branch` value increases, the `GPA` tends to decrease.\n",
    "2. **`School_AV` and `Spec`**: Strong positive correlation (0.62). This indicates that higher `School_AV` values are associated with higher `Spec` values.\n",
    "3. **`level` and `Age`**: Strong positive correlation (0.67). This suggests that as the `level` increases, the `Age` also tends to increase.\n",
    "4. **`Gender` and `GPA`**: Moderate negative correlation (-0.41). This indicates that `Gender` has some influence on `GPA`, with males or females (depending on encoding) tending to have lower GPAs.\n",
    "5. **`St_Hr` and `GPA`**: Moderate positive correlation (0.25). This suggests that more study hours (`St_Hr`) are associated with higher GPAs.\n"
   ]
  },
  {
   "cell_type": "code",
   "execution_count": 30,
   "id": "5c5a7d66",
   "metadata": {},
   "outputs": [
    {
     "name": "stdout",
     "output_type": "stream",
     "text": [
      "Outliers detected in each column:\n",
      "Spec         0\n",
      "Gender       0\n",
      "St_Hr        0\n",
      "School_AV    0\n",
      "branch       0\n",
      "level        1\n",
      "Age          0\n",
      "GPA          2\n",
      "dtype: int64\n"
     ]
    }
   ],
   "source": [
    "# Detect outliers using the IQR method\n",
    "Q1 = df.quantile(0.25)  # First quartile\n",
    "Q3 = df.quantile(0.75)  # Third quartile\n",
    "IQR = Q3 - Q1           # Interquartile range\n",
    "\n",
    "# Define outlier bounds\n",
    "lower_bound = Q1 - 1.5 * IQR\n",
    "upper_bound = Q3 + 1.5 * IQR\n",
    "\n",
    "# Find outliers\n",
    "outliers = ((df < lower_bound) | (df > upper_bound)).sum()\n",
    "print(\"Outliers detected in each column:\")\n",
    "print(outliers)"
   ]
  },
  {
   "cell_type": "code",
   "execution_count": 32,
   "id": "edae5c2f",
   "metadata": {},
   "outputs": [
    {
     "name": "stdout",
     "output_type": "stream",
     "text": [
      "Outliers in level:\n",
      "    Spec  Gender  St_Hr  School_AV  branch  level        Age  GPA\n",
      "0    NaN     0.0    6.0       80.0     NaN    NaN  20.000000   78\n",
      "1    NaN     0.0    7.0       82.0     NaN    NaN  22.000000   73\n",
      "2    NaN     0.0    NaN       81.0     NaN    NaN  20.000000   80\n",
      "3    NaN     NaN    NaN        NaN     NaN    NaN  22.000000   67\n",
      "4    NaN     NaN    NaN        NaN     NaN    NaN  22.000000   67\n",
      "..   ...     ...    ...        ...     ...    ...        ...  ...\n",
      "71   0.0     0.0    5.0       64.0     0.0    NaN  23.000000   83\n",
      "72   0.0     0.0    6.0       67.0     0.0    NaN  22.000000   82\n",
      "73   0.0     0.0    6.0       67.0     0.0    NaN  22.000000   82\n",
      "74   0.0     NaN    6.0       68.0     0.0    NaN  21.220588   88\n",
      "75   0.0     0.0    5.0       70.0     NaN    NaN  25.000000   80\n",
      "\n",
      "[76 rows x 8 columns]\n",
      "Outliers in GPA:\n",
      "    Spec  Gender  St_Hr  School_AV  branch  level        Age  GPA\n",
      "0      2       0      6        NaN       1      3  20.000000  NaN\n",
      "1      2       0      7        NaN       1      4  22.000000  NaN\n",
      "2      2       0      4        NaN       1      3  20.000000  NaN\n",
      "3      2       1      3        NaN       1      3  22.000000  NaN\n",
      "4      2       1      3        NaN       1      3  22.000000  NaN\n",
      "..   ...     ...    ...        ...     ...    ...        ...  ...\n",
      "71     0       0      5       64.0       0      4  23.000000  NaN\n",
      "72     0       0      6        NaN       0      4  22.000000  NaN\n",
      "73     0       0      6        NaN       0      4  22.000000  NaN\n",
      "74     0       1      6        NaN       0      2  21.220588  NaN\n",
      "75     0       0      5        NaN       1      3  25.000000  NaN\n",
      "\n",
      "[76 rows x 8 columns]\n"
     ]
    }
   ],
   "source": [
    "# Check the outlier in level and GPA\n",
    "outliers_level = df[(df < lower_bound['level']) | (df > upper_bound['level'])]\n",
    "print(\"Outliers in level:\")\n",
    "print(outliers_level)\n",
    "# Check the outlier in GPA\n",
    "outliers_gpa = df[(df < lower_bound['GPA']) | (df > upper_bound['GPA'])]\n",
    "print(\"Outliers in GPA:\")  \n",
    "print(outliers_gpa)"
   ]
  },
  {
   "cell_type": "code",
   "execution_count": 33,
   "id": "bd7be394",
   "metadata": {},
   "outputs": [
    {
     "name": "stdout",
     "output_type": "stream",
     "text": [
      "Data shape after removing outliers: (73, 8)\n"
     ]
    }
   ],
   "source": [
    "# Remove outliers\n",
    "df = df[~((df < lower_bound) | (df > upper_bound)).any(axis=1)]\n",
    "print(\"Data shape after removing outliers:\", df.shape)"
   ]
  }
 ],
 "metadata": {
  "kernelspec": {
   "display_name": "MachineLearning",
   "language": "python",
   "name": "python3"
  },
  "language_info": {
   "codemirror_mode": {
    "name": "ipython",
    "version": 3
   },
   "file_extension": ".py",
   "mimetype": "text/x-python",
   "name": "python",
   "nbconvert_exporter": "python",
   "pygments_lexer": "ipython3",
   "version": "3.13.2"
  }
 },
 "nbformat": 4,
 "nbformat_minor": 5
}
